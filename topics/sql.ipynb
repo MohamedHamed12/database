{
 "cells": [
  {
   "cell_type": "markdown",
   "metadata": {},
   "source": [
    "## PostgreSQL"
   ]
  },
  {
   "cell_type": "markdown",
   "metadata": {},
   "source": [
    " ### Explain Plan\n"
   ]
  },
  {
   "cell_type": "code",
   "execution_count": null,
   "metadata": {
    "vscode": {
     "languageId": "plaintext"
    }
   },
   "outputs": [],
   "source": [
    "CREATE TABLE employees (\n",
    "    employee_id serial PRIMARY KEY,\n",
    "    first_name VARCHAR(50),\n",
    "    last_name VARCHAR(50),\n",
    "    department VARCHAR(50),\n",
    "    salary NUMERIC\n",
    ");\n",
    "EXPLAIN SELECT first_name, last_name FROM employees WHERE department = 'Sales';"
   ]
  },
  {
   "cell_type": "code",
   "execution_count": null,
   "metadata": {
    "vscode": {
     "languageId": "plaintext"
    }
   },
   "outputs": [],
   "source": [
    "                                 QUERY PLAN\n",
    "-----------------------------------------------------------------------------\n",
    " Seq Scan on employees  (cost=0.00..14.25 rows=1 width=40)\n",
    "   Filter: (department = 'Sales'::text)\n",
    "(2 rows)"
   ]
  },
  {
   "cell_type": "markdown",
   "metadata": {},
   "source": [
    "The output of the EXPLAIN statement consists of several columns, with each row representing an operation or step in the query execution plan. Common columns include:\n",
    "\n",
    "QUERY PLAN: This column contains a textual representation of the execution plan.\n",
    "NODE TYPE: Describes the type of operation being performed for that step.\n",
    "RELATION NAME: The name of the table or index involved in the operation.\n",
    "STARTUP COST and TOTAL COST: These represent the estimated startup and total cost of the operation. Lower cost operations are generally preferred.\n",
    "ROWS: The estimated number of rows that will be processed or returned by the operation.\n",
    "WIDTH: The estimated width of each row in bytes."
   ]
  }
 ],
 "metadata": {
  "language_info": {
   "name": "python"
  },
  "orig_nbformat": 4
 },
 "nbformat": 4,
 "nbformat_minor": 2
}
